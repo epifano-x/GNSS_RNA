{
 "cells": [
  {
   "cell_type": "code",
   "execution_count": 1,
   "id": "7c6b2779",
   "metadata": {},
   "outputs": [],
   "source": [
    "import json\n",
    "import pandas as pd\n",
    "import numpy as np\n",
    "import matplotlib.pyplot as plt\n",
    "import seaborn as sns\n",
    "import scipy.stats as stats\n"
   ]
  },
  {
   "cell_type": "code",
   "execution_count": null,
   "id": "86c422b8",
   "metadata": {},
   "outputs": [
    {
     "name": "stdout",
     "output_type": "stream",
     "text": [
      "Carregando o arquivo JSON: #{arquivo_json}\n",
      "\n"
     ]
    }
   ],
   "source": [
    "# Nome do arquivo JSON\n",
    "arquivo_json = \"Dataset_Vetor.json\"\n",
    "print(\"Carregando o arquivo JSON: #{arquivo_json}\\n\")\n",
    "\n",
    "# Carregar os dados do arquivo JSON\n",
    "with open(arquivo_json, \"r\") as arquivo:\n",
    "    dados = json.load(arquivo)\n",
    "\n",
    "# Converter os dados em um DataFrame\n",
    "df_dataset_vetor = pd.DataFrame(dados)\n",
    "\n",
    "# Exibir as primeiras linhas do DataFrame\n",
    "print(df_dataset_vetor.head())"
   ]
  },
  {
   "cell_type": "code",
   "execution_count": null,
   "id": "50a47392",
   "metadata": {},
   "outputs": [],
   "source": [
    "# Certifique-se de que o arquivo JSON foi carregado\n",
    "if 'dados' not in locals():\n",
    "\tarquivo_json = \"Dataset_Vetor.json\"\n",
    "\twith open(arquivo_json, \"r\") as arquivo:\n",
    "\t\tdados = json.load(arquivo)\n",
    "\n",
    "# Exibir a estrutura do primeiro objeto da lista contida no JSON\n",
    "primeiro_objeto = dados[0]\n",
    "print(\"Estrutura do primeiro objeto da lista:\\n\")\n",
    "print(json.dumps(primeiro_objeto, indent=4, ensure_ascii=False))"
   ]
  },
  {
   "cell_type": "code",
   "execution_count": null,
   "id": "f067bb0e",
   "metadata": {},
   "outputs": [],
   "source": []
  }
 ],
 "metadata": {
  "kernelspec": {
   "display_name": "Python 3 (ipykernel)",
   "language": "python",
   "name": "python3"
  },
  "language_info": {
   "codemirror_mode": {
    "name": "ipython",
    "version": 3
   },
   "file_extension": ".py",
   "mimetype": "text/x-python",
   "name": "python",
   "nbconvert_exporter": "python",
   "pygments_lexer": "ipython3",
   "version": "3.8.10"
  }
 },
 "nbformat": 4,
 "nbformat_minor": 5
}
