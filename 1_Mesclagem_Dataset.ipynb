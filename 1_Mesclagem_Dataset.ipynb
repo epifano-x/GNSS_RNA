{
 "cells": [
  {
   "cell_type": "markdown",
   "metadata": {},
   "source": [
    "# Mesclagem_Dataset.ipynb\n",
    "\n",
    "Este notebook foi criado para mesclar múltiplos bancos de dados SQLite localizados em subpastas dentro do diretório `TABELAS` \n",
    "em um único banco consolidado. A arquitetura esperada de pastas é a seguinte:\n",
    "\n",
    "- raiz/\n",
    "  - CODE/\n",
    "    - IPYNB/ -> Local onde este notebook será salvo.\n",
    "  - TABELAS/\n",
    "    - DIA 1 20-04-24/\n",
    "      - Aparelho1.db\n",
    "      - Aparelho2.db\n",
    "      - Aparelho3.db\n",
    "      - Aparelho4.db\n",
    "    - DIA 2 21-04-24/\n",
    "      - Aparelho1.db\n",
    "      - Aparelho2.db\n",
    "      - Aparelho3.db\n",
    "      - Aparelho4.db\n",
    "    - JSONS/\n",
    "    - SQL'S/\n",
    "\n",
    "Objetivo: Consolidar todos os bancos SQLite de `DIA 1` e `DIA 2` em um único banco armazenado em `SQL'S`.\n"
   ]
  },
  {
   "cell_type": "code",
   "execution_count": 1,
   "metadata": {},
   "outputs": [],
   "source": [
    "import sqlite3\n",
    "import os\n",
    "from pathlib import Path"
   ]
  },
  {
   "cell_type": "markdown",
   "metadata": {},
   "source": [
    "# Diretório base onde os arquivos estão localizados"
   ]
  },
  {
   "cell_type": "code",
   "execution_count": null,
   "metadata": {},
   "outputs": [
    {
     "name": "stdout",
     "output_type": "stream",
     "text": [
      "Diretório atual: D:\\[TCC]\\CODE\n",
      "Diretório base de TABELAS: D:\\[TCC]\\TABELAS\n",
      "Banco consolidado será salvo em: D:\\[TCC]\\TABELAS\\SQL'S\\Consolidado.db\n"
     ]
    }
   ],
   "source": [
    "# Ajustar caminho para localizar TABELAS no mesmo nível de CODE\n",
    "current_dir = Path().resolve()  # Diretório atual onde o notebook está\n",
    "base_dir = current_dir.parent / \"TABELAS\"  # Sobe um nível para localizar TABELAS fora de CODE\n",
    "dias = [\"DIA 1 20-04-24\", \"DIA 2 21-04-24\"]\n",
    "output_dir = base_dir / \"SQL'S\"\n",
    "output_db_path = output_dir / \"Consolidado.db\"\n",
    "\n",
    "# Exibir os caminhos ajustados para validação\n",
    "print(f\"Diretório atual: {current_dir}\")\n",
    "print(f\"Diretório base de TABELAS: {base_dir}\")\n",
    "print(f\"Banco consolidado será salvo em: {output_db_path}\")\n"
   ]
  },
  {
   "cell_type": "markdown",
   "metadata": {},
   "source": [
    "# Criação da pasta de saída, se não existir"
   ]
  },
  {
   "cell_type": "code",
   "execution_count": 5,
   "metadata": {},
   "outputs": [],
   "source": [
    "output_dir.mkdir(parents=True, exist_ok=True)"
   ]
  },
  {
   "cell_type": "markdown",
   "metadata": {},
   "source": [
    "# Função para copiar dados de um banco para outro\n",
    "\n",
    "    Copia todas as tabelas de um banco SQLite de origem para um banco de destino.\n"
   ]
  },
  {
   "cell_type": "code",
   "execution_count": null,
   "metadata": {},
   "outputs": [],
   "source": [
    "def merge_databases(src_db_path, dest_conn):\n",
    "    src_conn = sqlite3.connect(src_db_path)\n",
    "    src_cursor = src_conn.cursor()\n",
    "    dest_cursor = dest_conn.cursor()\n",
    "    \n",
    "    # Obtendo todas as tabelas no banco de origem\n",
    "    src_cursor.execute(\"SELECT name FROM sqlite_master WHERE type='table';\")\n",
    "    tables = src_cursor.fetchall()\n",
    "    \n",
    "    for (table_name,) in tables:\n",
    "        # Obtendo os dados e estrutura da tabela\n",
    "        src_cursor.execute(f\"SELECT * FROM {table_name};\")\n",
    "        rows = src_cursor.fetchall()\n",
    "        \n",
    "        src_cursor.execute(f\"PRAGMA table_info({table_name});\")\n",
    "        columns = src_cursor.fetchall()\n",
    "        column_names = [col[1] for col in columns]\n",
    "        \n",
    "        # Criando a tabela no banco de destino, se necessário\n",
    "        column_defs = \", \".join([f\"{col[1]} {col[2]}\" for col in columns])\n",
    "        dest_cursor.execute(f\"CREATE TABLE IF NOT EXISTS {table_name} ({column_defs});\")\n",
    "        \n",
    "        # Inserindo os dados\n",
    "        if rows:\n",
    "            placeholders = \", \".join([\"?\" for _ in column_names])\n",
    "            insert_query = f\"INSERT INTO {table_name} ({', '.join(column_names)}) VALUES ({placeholders});\"\n",
    "            dest_cursor.executemany(insert_query, rows)\n",
    "    \n",
    "    src_conn.close()"
   ]
  },
  {
   "cell_type": "markdown",
   "metadata": {},
   "source": [
    "# Criando o banco consolidado"
   ]
  },
  {
   "cell_type": "code",
   "execution_count": 7,
   "metadata": {},
   "outputs": [
    {
     "name": "stdout",
     "output_type": "stream",
     "text": [
      "Banco consolidado criado em: TABELAS\\SQL'S\\Consolidado.db\n"
     ]
    }
   ],
   "source": [
    "with sqlite3.connect(output_db_path) as dest_conn:\n",
    "    for dia in dias:\n",
    "        dia_dir = base_dir / dia\n",
    "        db_files = [f for f in dia_dir.glob(\"*.db\") if f.is_file()]\n",
    "        \n",
    "        for db_file in db_files:\n",
    "            print(f\"Processando: {db_file}\")\n",
    "            merge_databases(db_file, dest_conn)\n",
    "\n",
    "print(f\"Banco consolidado criado em: {output_db_path}\")"
   ]
  }
 ],
 "metadata": {
  "kernelspec": {
   "display_name": "Python 3",
   "language": "python",
   "name": "python3"
  },
  "language_info": {
   "codemirror_mode": {
    "name": "ipython",
    "version": 3
   },
   "file_extension": ".py",
   "mimetype": "text/x-python",
   "name": "python",
   "nbconvert_exporter": "python",
   "pygments_lexer": "ipython3",
   "version": "3.11.4"
  }
 },
 "nbformat": 4,
 "nbformat_minor": 2
}
