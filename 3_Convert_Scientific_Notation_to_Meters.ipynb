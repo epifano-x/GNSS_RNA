{
 "cells": [
  {
   "cell_type": "markdown",
   "metadata": {},
   "source": [
    "# 3_Convert_Scientific_Notation_to_Meters.ipynb\n",
    "\n",
    "Este notebook processa o arquivo JSON gerado (`Dataset.json`) e:\n",
    "1. Converte `diferencalatitude` e `diferencalongitude` de graus para metros.\n",
    "2. Elimina a notação científica ao trabalhar com valores maiores.\n",
    "3. Salva o JSON resultante em um novo arquivo chamado `Dataset_Converted.json`."
   ]
  },
  {
   "cell_type": "code",
   "execution_count": 17,
   "metadata": {},
   "outputs": [],
   "source": [
    "import json\n",
    "from pathlib import Path"
   ]
  },
  {
   "cell_type": "markdown",
   "metadata": {},
   "source": [
    "# Configuração dos caminhos"
   ]
  },
  {
   "cell_type": "code",
   "execution_count": 18,
   "metadata": {},
   "outputs": [],
   "source": [
    "current_dir = Path().resolve()  # Diretório onde o notebook está sendo executado\n",
    "base_dir = current_dir.parent / \"TABELAS\"  # Diretório onde está localizado o JSON original\n",
    "input_json_path = base_dir / \"JSONS\" / \"Dataset.json\"  # Caminho do JSON original\n",
    "output_json_path = base_dir / \"JSONS\" / \"Dataset_Converted.json\"  # Caminho do JSON convertido\n"
   ]
  },
  {
   "cell_type": "markdown",
   "metadata": {},
   "source": [
    "# Constantes de conversão"
   ]
  },
  {
   "cell_type": "code",
   "execution_count": 19,
   "metadata": {},
   "outputs": [],
   "source": [
    "METROS_POR_GRAU_LATITUDE = 111320  # 1 grau de latitude em metros\n",
    "METROS_POR_GRAU_LONGITUDE = 111320  # Aproximação para simplificar (varia com latitude)\n"
   ]
  },
  {
   "cell_type": "markdown",
   "metadata": {},
   "source": [
    "# Função para converter diferenças de graus para metros\n",
    "\n",
    "    Converte um valor de graus para metros.\n",
    "    \n",
    "    :param value: Valor em graus.\n",
    "    :param is_latitude: True se for latitude; False para longitude.\n",
    "    :return: Valor convertido em metros.\n"
   ]
  },
  {
   "cell_type": "code",
   "execution_count": 20,
   "metadata": {},
   "outputs": [],
   "source": [
    "\n",
    "def convert_to_meters(value, is_latitude=True):\n",
    "    \n",
    "    fator = METROS_POR_GRAU_LATITUDE if is_latitude else METROS_POR_GRAU_LONGITUDE\n",
    "    return round(value * fator, 2)  # Arredonda para 2 casas decimais\n"
   ]
  },
  {
   "cell_type": "markdown",
   "metadata": {},
   "source": [
    "# Função para converter campos específicos\n",
    "Converte os campos do JSON:\n",
    "    - `diferencalatitude` e `diferencalongitude`: De graus para metros.\n",
    "    - Renomeia os campos para `diferencalatitudeMetros` e `diferencalongitudeMetros`.\n",
    "    - `latitudereal` e `longitudereal`: Arredonda para 6 casas decimais.\n",
    "    \n",
    "    :param data: Lista de registros do JSON.\n",
    "    :return: Lista de registros convertidos."
   ]
  },
  {
   "cell_type": "code",
   "execution_count": 21,
   "metadata": {},
   "outputs": [],
   "source": [
    "def convert_fields(data):\n",
    "    for record in data:\n",
    "        # Converte diferencalatitude para metros e renomeia o campo\n",
    "        if \"diferencalatitude\" in record and record[\"diferencalatitude\"] is not None:\n",
    "            record[\"diferencalatitudeMetros\"] = convert_to_meters(float(record[\"diferencalatitude\"]), is_latitude=True)\n",
    "            del record[\"diferencalatitude\"]  # Remove o campo antigo\n",
    "        \n",
    "        # Converte diferencalongitude para metros e renomeia o campo\n",
    "        if \"diferencalongitude\" in record and record[\"diferencalongitude\"] is not None:\n",
    "            record[\"diferencalongitudeMetros\"] = convert_to_meters(float(record[\"diferencalongitude\"]), is_latitude=False)\n",
    "            del record[\"diferencalongitude\"]  # Remove o campo antigo\n",
    "        \n",
    "        # Arredonda latitudereal e longitudereal para 6 casas decimais\n",
    "        if \"latitudereal\" in record and record[\"latitudereal\"] is not None:\n",
    "            record[\"latitudereal\"] = round(float(record[\"latitudereal\"]), 6)\n",
    "        \n",
    "        if \"longitudereal\" in record and record[\"longitudereal\"] is not None:\n",
    "            record[\"longitudereal\"] = round(float(record[\"longitudereal\"]), 6)\n",
    "        \n",
    "        # Reorganiza os campos, garantindo que `diferencalatitudeMetros` e `diferencalongitudeMetros` fiquem no topo\n",
    "        reordered_record = {\n",
    "            \"diferencalatitudeMetros\": record.pop(\"diferencalatitudeMetros\", None),\n",
    "            \"diferencalongitudeMetros\": record.pop(\"diferencalongitudeMetros\", None),\n",
    "            **record  # Insere os outros campos na ordem original\n",
    "        }\n",
    "        record.clear()\n",
    "        record.update(reordered_record)  # Atualiza o dicionário com a nova ordem\n",
    "    \n",
    "    return data"
   ]
  },
  {
   "cell_type": "markdown",
   "metadata": {},
   "source": [
    "# Leitura do arquivo JSON original"
   ]
  },
  {
   "cell_type": "code",
   "execution_count": 22,
   "metadata": {},
   "outputs": [],
   "source": [
    "with open(input_json_path, \"r\", encoding=\"utf-8\") as input_file:\n",
    "    data = json.load(input_file)"
   ]
  },
  {
   "cell_type": "markdown",
   "metadata": {},
   "source": [
    "# Converte os campos"
   ]
  },
  {
   "cell_type": "code",
   "execution_count": 23,
   "metadata": {},
   "outputs": [],
   "source": [
    "converted_data = convert_fields(data)"
   ]
  },
  {
   "cell_type": "markdown",
   "metadata": {},
   "source": [
    "# Salva o JSON convertido com o encoder customizado"
   ]
  },
  {
   "cell_type": "code",
   "execution_count": 24,
   "metadata": {},
   "outputs": [],
   "source": [
    "with open(output_json_path, \"w\", encoding=\"utf-8\") as output_file:\n",
    "    json.dump(converted_data, output_file, ensure_ascii=False, indent=4)"
   ]
  }
 ],
 "metadata": {
  "kernelspec": {
   "display_name": "Python 3",
   "language": "python",
   "name": "python3"
  },
  "language_info": {
   "codemirror_mode": {
    "name": "ipython",
    "version": 3
   },
   "file_extension": ".py",
   "mimetype": "text/x-python",
   "name": "python",
   "nbconvert_exporter": "python",
   "pygments_lexer": "ipython3",
   "version": "3.11.4"
  }
 },
 "nbformat": 4,
 "nbformat_minor": 2
}
