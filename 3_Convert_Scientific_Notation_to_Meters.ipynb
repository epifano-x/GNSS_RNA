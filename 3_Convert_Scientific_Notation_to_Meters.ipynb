{
 "cells": [
  {
   "cell_type": "markdown",
   "metadata": {},
   "source": [
    "# 3_Convert_Scientific_Notation_to_Meters.ipynb\n",
    "\n",
    "Este notebook processa o arquivo JSON gerado (`Dataset.json`) e:\n",
    "1. Converte `diferencalatitude` e `diferencalongitude` de graus para metros.\n",
    "2. Elimina a notação científica ao trabalhar com valores maiores.\n",
    "3. Salva o JSON resultante em um novo arquivo chamado `Dataset_Converted.json`."
   ]
  },
  {
   "cell_type": "code",
   "execution_count": 49,
   "metadata": {},
   "outputs": [],
   "source": [
    "import json\n",
    "from pathlib import Path"
   ]
  },
  {
   "cell_type": "markdown",
   "metadata": {},
   "source": [
    "# Configuração dos caminhos"
   ]
  },
  {
   "cell_type": "code",
   "execution_count": 50,
   "metadata": {},
   "outputs": [],
   "source": [
    "current_dir = Path().resolve()  # Diretório onde o notebook está sendo executado\n",
    "base_dir = current_dir.parent / \"TABELAS\"  # Diretório onde está localizado o JSON original\n",
    "input_json_path = base_dir / \"JSONS\" / \"Dataset.json\"  # Caminho do JSON original\n",
    "output_json_path = base_dir / \"JSONS\" / \"Dataset_Converted.json\"  # Caminho do JSON convertido\n"
   ]
  },
  {
   "cell_type": "markdown",
   "metadata": {},
   "source": [
    "# Encoder customizado para evitar notação científica\n",
    "Custom JSON encoder que força números float a serem representados sem notação científica.\n",
    "    "
   ]
  },
  {
   "cell_type": "code",
   "execution_count": 51,
   "metadata": {},
   "outputs": [],
   "source": [
    "class NoScientificJsonEncoder(json.JSONEncoder):\n",
    "    def encode(self, obj):\n",
    "        # Sobrescreve a serialização para formatar floats\n",
    "        if isinstance(obj, float):\n",
    "            return format(obj, \".6f\")  # Força 6 casas decimais\n",
    "        elif isinstance(obj, list):\n",
    "            return \"[\" + \", \".join(self.encode(el) for el in obj) + \"]\"\n",
    "        elif isinstance(obj, dict):\n",
    "            return \"{\" + \", \".join(f\"{json.dumps(k)}: {self.encode(v)}\" for k, v in obj.items()) + \"}\"\n",
    "        else:\n",
    "            return json.dumps(obj)"
   ]
  },
  {
   "cell_type": "markdown",
   "metadata": {},
   "source": [
    "# Função para converter campos específicos\n",
    "Converte os campos do JSON:\n",
    "    - `diferencalatitude` e `diferencalongitude`: de notação científica para float, arredondando para 6 casas decimais.\n",
    "    - `latitudereal` e `longitudereal`: de string para float.\n",
    "    \n",
    "    :param data: Lista de registros do JSON.\n",
    "    :return: Lista de registros convertidos."
   ]
  },
  {
   "cell_type": "code",
   "execution_count": 52,
   "metadata": {},
   "outputs": [],
   "source": [
    "def convert_fields(data):\n",
    "    for record in data:\n",
    "        # Converte diferencalatitude e diferencalongitude\n",
    "        if \"diferencalatitude\" in record and record[\"diferencalatitude\"] is not None:\n",
    "            record[\"diferencalatitude\"] = round(float(record[\"diferencalatitude\"]), 6)\n",
    "        \n",
    "        if \"diferencalongitude\" in record and record[\"diferencalongitude\"] is not None:\n",
    "            record[\"diferencalongitude\"] = round(float(record[\"diferencalongitude\"]), 6)\n",
    "        \n",
    "        # Converte latitudereal e longitudereal de string para float\n",
    "        if \"latitudereal\" in record and record[\"latitudereal\"] is not None:\n",
    "            record[\"latitudereal\"] = round(float(record[\"latitudereal\"]), 6)\n",
    "        \n",
    "        if \"longitudereal\" in record and record[\"longitudereal\"] is not None:\n",
    "            record[\"longitudereal\"] = round(float(record[\"longitudereal\"]), 6)\n",
    "    \n",
    "    return data"
   ]
  },
  {
   "cell_type": "markdown",
   "metadata": {},
   "source": [
    "# Leitura do arquivo JSON original"
   ]
  },
  {
   "cell_type": "code",
   "execution_count": 53,
   "metadata": {},
   "outputs": [],
   "source": [
    "with open(input_json_path, \"r\", encoding=\"utf-8\") as input_file:\n",
    "    data = json.load(input_file)"
   ]
  },
  {
   "cell_type": "markdown",
   "metadata": {},
   "source": [
    "# Converte os campos"
   ]
  },
  {
   "cell_type": "code",
   "execution_count": 54,
   "metadata": {},
   "outputs": [],
   "source": [
    "converted_data = convert_fields(data)"
   ]
  },
  {
   "cell_type": "markdown",
   "metadata": {},
   "source": [
    "# Salva o JSON convertido com o encoder customizado"
   ]
  },
  {
   "cell_type": "code",
   "execution_count": 55,
   "metadata": {},
   "outputs": [
    {
     "name": "stdout",
     "output_type": "stream",
     "text": [
      "JSON convertido com sucesso e salvo em: D:\\[TCC]\\TABELAS\\JSONS\\Dataset_Converted.json\n"
     ]
    }
   ],
   "source": [
    "with open(output_json_path, \"w\", encoding=\"utf-8\") as output_file:\n",
    "    json.dump(converted_data, output_file, cls=NoScientificJsonEncoder, indent=4)\n",
    "\n",
    "print(f\"JSON convertido com sucesso e salvo em: {output_json_path}\")"
   ]
  }
 ],
 "metadata": {
  "kernelspec": {
   "display_name": "Python 3",
   "language": "python",
   "name": "python3"
  },
  "language_info": {
   "codemirror_mode": {
    "name": "ipython",
    "version": 3
   },
   "file_extension": ".py",
   "mimetype": "text/x-python",
   "name": "python",
   "nbconvert_exporter": "python",
   "pygments_lexer": "ipython3",
   "version": "3.11.4"
  }
 },
 "nbformat": 4,
 "nbformat_minor": 2
}
