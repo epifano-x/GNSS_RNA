{
 "cells": [
  {
   "cell_type": "markdown",
   "metadata": {},
   "source": [
    "# 2_Sql_to_Json_Dataset.ipynb\n",
    "\n",
    "Este notebook transforma um banco de dados SQLite em um JSON consolidado. Ele considera as tabelas dentro do banco\n",
    "e gera um arquivo JSON contendo os dados. O campo `gnss_data_json`, que já é um JSON no banco, será embutido\n",
    "diretamente no JSON final.\n",
    "\n",
    "## Estrutura do banco de dados:\n",
    "- Nome do banco: Consolidado.db\n",
    "- Tabelas:\n",
    "  - `gnss_data`: Contém dados de latitude, longitude, altitude, e um campo `gnss_data_json` que já é um JSON.\n",
    "\n",
    "## Objetivo:\n",
    "- Ler os dados da tabela `gnss_data` e criar um único JSON consolidado contendo todos os registros.\n",
    "- Salvar o JSON no arquivo `Dataset.json`.\n",
    "\n",
    "## Saída:\n",
    "- Um arquivo chamado `Dataset.json` com todos os dados consolidados."
   ]
  },
  {
   "cell_type": "code",
   "execution_count": 1,
   "metadata": {},
   "outputs": [],
   "source": [
    "import sqlite3\n",
    "import json\n",
    "from pathlib import Path"
   ]
  },
  {
   "cell_type": "markdown",
   "metadata": {},
   "source": [
    "# Configuração dos caminhos"
   ]
  },
  {
   "cell_type": "code",
   "execution_count": 2,
   "metadata": {},
   "outputs": [],
   "source": [
    "current_dir = Path().resolve()  # Diretório onde o notebook está sendo executado\n",
    "base_dir = current_dir.parent / \"TABELAS\"  # Local onde a pasta TABELAS está localizada\n",
    "json_output_dir = base_dir / \"JSONS\"  # Local onde o JSON será salvo\n",
    "db_path = base_dir / \"SQL'S\" / \"Consolidado.db\"  # Caminho para o banco Consolidado.db\n",
    "output_json_path = json_output_dir / \"Dataset.json\"  # Caminho para salvar o JSON consolidado\n",
    "\n"
   ]
  },
  {
   "cell_type": "markdown",
   "metadata": {},
   "source": [
    "# Função para transformar os dados do banco em JSON\n",
    "\n",
    "Transforma os dados de um banco SQLite em um arquivo JSON consolidado.\n",
    "    \n",
    "    :param db_path: Caminho para o banco de dados SQLite.\n",
    "    :param output_path: Caminho para salvar o JSON gerado."
   ]
  },
  {
   "cell_type": "code",
   "execution_count": 3,
   "metadata": {},
   "outputs": [],
   "source": [
    "def sql_to_json(db_path, output_path):\n",
    "\n",
    "    # Conexão com o banco de dados\n",
    "    conn = sqlite3.connect(db_path)\n",
    "    cursor = conn.cursor()\n",
    "\n",
    "    # Lista para armazenar todos os registros como dicionários\n",
    "    json_data = []\n",
    "\n",
    "    # Obtém os dados da tabela gnss_data\n",
    "    cursor.execute(\"SELECT * FROM gnss_data;\")\n",
    "    columns = [description[0] for description in cursor.description]  # Nome das colunas\n",
    "    rows = cursor.fetchall()\n",
    "\n",
    "    for row in rows:\n",
    "        # Converte a linha em um dicionário\n",
    "        record = dict(zip(columns, row))\n",
    "        \n",
    "        # O campo `gnss_data_json` é um JSON; converte para dicionário e mantém apenas `satellites`\n",
    "        if \"gnss_data_json\" in record and record[\"gnss_data_json\"]:\n",
    "            satellites_data = json.loads(record[\"gnss_data_json\"]).get(\"satellites\", [])\n",
    "            record[\"satellites\"] = satellites_data\n",
    "            del record[\"gnss_data_json\"]  # Remove o campo original\n",
    "        \n",
    "        # Remove o campo `_id` do registro\n",
    "        if \"_id\" in record:\n",
    "            del record[\"_id\"]\n",
    "            \n",
    "        # Adiciona o registro à lista final\n",
    "        json_data.append(record)\n",
    "    \n",
    "    # Salva os dados no arquivo JSON\n",
    "    with open(output_path, \"w\", encoding=\"utf-8\") as json_file:\n",
    "        json.dump(json_data, json_file, ensure_ascii=False, indent=4)\n",
    "\n",
    "    conn.close()\n",
    "    print(f\"JSON gerado com sucesso em: {output_path}\")\n"
   ]
  },
  {
   "cell_type": "markdown",
   "metadata": {},
   "source": [
    "# Executa a conversão"
   ]
  },
  {
   "cell_type": "code",
   "execution_count": 4,
   "metadata": {},
   "outputs": [
    {
     "name": "stdout",
     "output_type": "stream",
     "text": [
      "JSON gerado com sucesso em: D:\\[TCC]\\TABELAS\\JSONS\\Dataset.json\n"
     ]
    }
   ],
   "source": [
    "sql_to_json(db_path, output_json_path)"
   ]
  }
 ],
 "metadata": {
  "kernelspec": {
   "display_name": "Python 3",
   "language": "python",
   "name": "python3"
  },
  "language_info": {
   "codemirror_mode": {
    "name": "ipython",
    "version": 3
   },
   "file_extension": ".py",
   "mimetype": "text/x-python",
   "name": "python",
   "nbconvert_exporter": "python",
   "pygments_lexer": "ipython3",
   "version": "3.11.4"
  }
 },
 "nbformat": 4,
 "nbformat_minor": 2
}
