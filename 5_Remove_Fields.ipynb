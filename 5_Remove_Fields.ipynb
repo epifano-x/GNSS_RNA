{
 "cells": [
  {
   "cell_type": "markdown",
   "metadata": {},
   "source": [
    "# 5_Remove_Fields.ipynb\n",
    "\n",
    "Este notebook processa o arquivo JSON (`Dataset_Normalized.json`) e:\n",
    "1. Remove os seguintes campos:\n",
    "   - `latitudereal`\n",
    "   - `longitudereal`\n",
    "   - `latitude`\n",
    "   - `longitude`\n",
    "   - `provider`\n",
    "2. Salva o resultado em um novo arquivo chamado `Dataset_Cleaned.json`.\n"
   ]
  },
  {
   "cell_type": "code",
   "execution_count": null,
   "metadata": {},
   "outputs": [],
   "source": [
    "import json\n",
    "from pathlib import Path\n",
    "\n",
    "# Configuração dos caminhos\n",
    "current_dir = Path().resolve()  # Diretório onde o notebook está sendo executado\n",
    "base_dir = current_dir.parent / \"TABELAS\"  # Diretório onde está localizado o JSON original\n",
    "input_json_path = base_dir / \"JSONS\" / \"Dataset_Normalized.json\"  # Caminho do JSON original\n",
    "output_json_path = base_dir / \"JSONS\" / \"Dataset_Cleaned.json\"  # Caminho do JSON limpo\n",
    "\n",
    "# Lista de campos a serem removidos\n",
    "FIELDS_TO_REMOVE = [\"latitudereal\", \"longitudereal\", \"latitude\", \"longitude\", \"provider\",\"pontoselecionado\"]\n"
   ]
  },
  {
   "cell_type": "markdown",
   "metadata": {},
   "source": [
    " Remove campos específicos de cada registro no JSON.\n",
    "    \n",
    "    :param data: Lista de registros do JSON.\n",
    "    :param fields_to_remove: Lista de campos a serem removidos.\n",
    "    :return: Lista de registros com os campos removidos."
   ]
  },
  {
   "cell_type": "code",
   "execution_count": 2,
   "metadata": {},
   "outputs": [
    {
     "name": "stdout",
     "output_type": "stream",
     "text": [
      "JSON limpo com sucesso e salvo em: D:\\[TCC]\\TABELAS\\JSONS\\Dataset_Cleaned.json\n"
     ]
    }
   ],
   "source": [
    "# Função para remover campos do JSON\n",
    "def remove_fields(data, fields_to_remove):\n",
    "    for record in data:\n",
    "        for field in fields_to_remove:\n",
    "            if field in record:\n",
    "                del record[field]\n",
    "    return data\n",
    "\n",
    "# Leitura do arquivo JSON original\n",
    "with open(input_json_path, \"r\", encoding=\"utf-8\") as input_file:\n",
    "    data = json.load(input_file)\n",
    "\n",
    "# Remove os campos especificados\n",
    "cleaned_data = remove_fields(data, FIELDS_TO_REMOVE)\n",
    "\n",
    "# Salva o JSON limpo\n",
    "with open(output_json_path, \"w\", encoding=\"utf-8\") as output_file:\n",
    "    json.dump(cleaned_data, output_file, ensure_ascii=False, indent=4)\n",
    "\n",
    "print(f\"JSON limpo com sucesso e salvo em: {output_json_path}\")"
   ]
  }
 ],
 "metadata": {
  "kernelspec": {
   "display_name": "Python 3",
   "language": "python",
   "name": "python3"
  },
  "language_info": {
   "codemirror_mode": {
    "name": "ipython",
    "version": 3
   },
   "file_extension": ".py",
   "mimetype": "text/x-python",
   "name": "python",
   "nbconvert_exporter": "python",
   "pygments_lexer": "ipython3",
   "version": "3.11.4"
  }
 },
 "nbformat": 4,
 "nbformat_minor": 2
}
