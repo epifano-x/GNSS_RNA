{
 "cells": [
  {
   "cell_type": "markdown",
   "metadata": {},
   "source": [
    "# 6_Group_Satellites_By_Constellation.ipynb (Melhorado)\n",
    "\n",
    "Este notebook processa o arquivo JSON (`Dataset_Cleaned.json`) e:\n",
    "1. Agrupa os satélites por `constellationType`, renomeando os grupos para `constellationType1`, `constellationType2`, etc.\n",
    "2. Remove o campo `constellationType` de cada satélite dentro do agrupamento.\n",
    "3. Salva o resultado em um novo arquivo chamado `Dataset_Grouped.json`."
   ]
  },
  {
   "cell_type": "code",
   "execution_count": 3,
   "metadata": {},
   "outputs": [],
   "source": [
    "import json\n",
    "from pathlib import Path\n",
    "from collections import defaultdict\n",
    "\n",
    "# Configuração dos caminhos\n",
    "current_dir = Path().resolve()  # Diretório onde o notebook está sendo executado\n",
    "base_dir = current_dir.parent / \"TABELAS\"  # Diretório onde está localizado o JSON original\n",
    "input_json_path = base_dir / \"JSONS\" / \"Dataset_Cleaned.json\"  # Caminho do JSON original\n",
    "output_json_path = base_dir / \"JSONS\" / \"Dataset_Grouped.json\"  # Caminho do JSON agrupado\n"
   ]
  },
  {
   "cell_type": "markdown",
   "metadata": {},
   "source": [
    "Reestrutura o campo `satellites` agrupando por `constellationType` e \n",
    "    renomeando os grupos para `constellationType1`, `constellationType2`, etc.\n",
    "    Remove o campo `constellationType` de cada satélite dentro do agrupamento.\n",
    "    \n",
    "    :param data: Lista de registros do JSON.\n",
    "    :return: Lista de registros com o campo `satellites` reestruturado."
   ]
  },
  {
   "cell_type": "code",
   "execution_count": 4,
   "metadata": {},
   "outputs": [
    {
     "name": "stdout",
     "output_type": "stream",
     "text": [
      "JSON agrupado e reestruturado salvo em: D:\\[TCC]\\TABELAS\\JSONS\\Dataset_Grouped.json\n"
     ]
    }
   ],
   "source": [
    "# Função para agrupar os satélites por constelação\n",
    "def group_satellites(data):\n",
    "    for record in data:\n",
    "        if \"satellites\" in record:\n",
    "            satellites = record[\"satellites\"]\n",
    "            \n",
    "            # Agrupamento por `constellationType`\n",
    "            grouped_constellations = defaultdict(list)\n",
    "            for satellite in satellites:\n",
    "                constellation = satellite[\"constellationType\"]\n",
    "                sat_copy = satellite.copy()\n",
    "                del sat_copy[\"constellationType\"]  # Remove o campo `constellationType`\n",
    "                \n",
    "                # Adiciona o satélite ao grupo correspondente\n",
    "                grouped_constellations[constellation].append(sat_copy)\n",
    "            \n",
    "            # Substitui a lista de satélites por um agrupamento renomeado\n",
    "            record[\"satellites\"] = {\n",
    "                f\"constellationType{constellation}\": sats\n",
    "                for constellation, sats in grouped_constellations.items()\n",
    "            }\n",
    "    \n",
    "    return data\n",
    "\n",
    "# Leitura do arquivo JSON original\n",
    "with open(input_json_path, \"r\", encoding=\"utf-8\") as input_file:\n",
    "    data = json.load(input_file)\n",
    "\n",
    "# Agrupa os satélites por constelação\n",
    "grouped_data = group_satellites(data)\n",
    "\n",
    "# Salva o JSON reestruturado\n",
    "with open(output_json_path, \"w\", encoding=\"utf-8\") as output_file:\n",
    "    json.dump(grouped_data, output_file, ensure_ascii=False, indent=4)\n",
    "\n",
    "print(f\"JSON agrupado e reestruturado salvo em: {output_json_path}\")"
   ]
  }
 ],
 "metadata": {
  "kernelspec": {
   "display_name": "Python 3",
   "language": "python",
   "name": "python3"
  },
  "language_info": {
   "codemirror_mode": {
    "name": "ipython",
    "version": 3
   },
   "file_extension": ".py",
   "mimetype": "text/x-python",
   "name": "python",
   "nbconvert_exporter": "python",
   "pygments_lexer": "ipython3",
   "version": "3.11.4"
  }
 },
 "nbformat": 4,
 "nbformat_minor": 2
}
