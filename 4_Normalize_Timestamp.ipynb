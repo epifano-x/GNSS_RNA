{
 "cells": [
  {
   "cell_type": "markdown",
   "metadata": {},
   "source": [
    "# 4_Normalize_Timestamp.ipynb\n",
    "\n",
    "Este notebook processa o arquivo JSON gerado (`Dataset_Converted.json`) e:\n",
    "1. Converte o campo `timestamp` de milissegundos para um formato de tempo (`HH:mm:ss`).\n",
    "2. Extrai apenas o tempo (`HH:mm:ss`) e normaliza para o intervalo [0, 1], onde:\n",
    "   - `0` representa 00:00 (meia-noite).\n",
    "   - `1` representa 24:00 (fim do dia).\n",
    "3. Salva o resultado em um novo arquivo chamado `Dataset_Normalized.json`."
   ]
  },
  {
   "cell_type": "code",
   "execution_count": 1,
   "metadata": {},
   "outputs": [],
   "source": [
    "import json\n",
    "from pathlib import Path\n",
    "from datetime import datetime\n"
   ]
  },
  {
   "cell_type": "markdown",
   "metadata": {},
   "source": [
    "### Configuração dos caminhos"
   ]
  },
  {
   "cell_type": "code",
   "execution_count": 2,
   "metadata": {},
   "outputs": [],
   "source": [
    "current_dir = Path().resolve()  # Diretório onde o notebook está sendo executado\n",
    "base_dir = current_dir.parent / \"TABELAS\"  # Diretório onde está localizado o JSON original\n",
    "input_json_path = base_dir / \"JSONS\" / \"Dataset_Converted.json\"  # Caminho do JSON original\n",
    "output_json_path = base_dir / \"JSONS\" / \"Dataset_Normalized.json\"  # Caminho do JSON normalizado\n"
   ]
  },
  {
   "cell_type": "markdown",
   "metadata": {},
   "source": [
    "### Função para converter timestamp em horário e normalizar\n",
    "\n",
    "Converte um timestamp em milissegundos para um horário e normaliza para [0, 1].\n",
    "    \n",
    "    :param timestamp: Timestamp em milissegundos.\n",
    "    :return: Valor normalizado do horário."
   ]
  },
  {
   "cell_type": "code",
   "execution_count": null,
   "metadata": {},
   "outputs": [],
   "source": [
    "def normalize_timestamp(timestamp):\n",
    "    # Converte o timestamp para datetime\n",
    "    dt = datetime.fromtimestamp(timestamp / 1000.0)\n",
    "    \n",
    "    # Calcula o total de segundos desde 00:00\n",
    "    total_seconds = dt.hour * 3600 + dt.minute * 60 + dt.second\n",
    "    \n",
    "    # Total de segundos em um dia\n",
    "    seconds_in_day = 24 * 3600\n",
    "    \n",
    "    # Normaliza o valor\n",
    "    return total_seconds / seconds_in_day"
   ]
  },
  {
   "cell_type": "markdown",
   "metadata": {},
   "source": []
  }
 ],
 "metadata": {
  "kernelspec": {
   "display_name": "Python 3",
   "language": "python",
   "name": "python3"
  },
  "language_info": {
   "codemirror_mode": {
    "name": "ipython",
    "version": 3
   },
   "file_extension": ".py",
   "mimetype": "text/x-python",
   "name": "python",
   "nbconvert_exporter": "python",
   "pygments_lexer": "ipython3",
   "version": "3.11.4"
  }
 },
 "nbformat": 4,
 "nbformat_minor": 2
}
