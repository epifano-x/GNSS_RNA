{
 "cells": [
  {
   "cell_type": "markdown",
   "metadata": {},
   "source": [
    "# 4_Normalize_Timestamp.ipynb\n",
    "\n",
    "Este notebook processa o arquivo JSON gerado (`Dataset_Converted.json`) e:\n",
    "1. Converte o campo `timestamp` de milissegundos para um formato de tempo (`HH:mm:ss`).\n",
    "2. Extrai apenas o tempo (`HH:mm:ss`) e normaliza para o intervalo [0, 1], onde:\n",
    "   - `0` representa 00:00 (meia-noite).\n",
    "   - `1` representa 24:00 (fim do dia).\n",
    "3. Salva o resultado em um novo arquivo chamado `Dataset_Normalized.json`."
   ]
  },
  {
   "cell_type": "code",
   "execution_count": 8,
   "metadata": {},
   "outputs": [],
   "source": [
    "import json\n",
    "from pathlib import Path\n",
    "from datetime import datetime\n"
   ]
  },
  {
   "cell_type": "markdown",
   "metadata": {},
   "source": [
    "### Configuração dos caminhos"
   ]
  },
  {
   "cell_type": "code",
   "execution_count": 9,
   "metadata": {},
   "outputs": [],
   "source": [
    "current_dir = Path().resolve()  # Diretório onde o notebook está sendo executado\n",
    "base_dir = current_dir.parent / \"TABELAS\"  # Diretório onde está localizado o JSON original\n",
    "input_json_path = base_dir / \"JSONS\" / \"Dataset_Converted.json\"  # Caminho do JSON original\n",
    "output_json_path = base_dir / \"JSONS\" / \"Dataset_Normalized.json\"  # Caminho do JSON normalizado\n"
   ]
  },
  {
   "cell_type": "markdown",
   "metadata": {},
   "source": [
    "### Função para converter timestamp em horário e normalizar\n",
    "\n",
    "Converte um timestamp em milissegundos para um horário e normaliza para [0, 1].\n",
    "    \n",
    "    :param timestamp: Timestamp em milissegundos.\n",
    "    :return: Valor normalizado do horário."
   ]
  },
  {
   "cell_type": "code",
   "execution_count": 10,
   "metadata": {},
   "outputs": [],
   "source": [
    "def normalize_timestamp(timestamp):\n",
    "    # Converte o timestamp para datetime\n",
    "    dt = datetime.fromtimestamp(timestamp / 1000.0)\n",
    "    \n",
    "    # Calcula o total de segundos desde 00:00\n",
    "    total_seconds = dt.hour * 3600 + dt.minute * 60 + dt.second\n",
    "    \n",
    "    # Total de segundos em um dia\n",
    "    seconds_in_day = 24 * 3600\n",
    "    \n",
    "    # Normaliza o valor\n",
    "    return total_seconds / seconds_in_day"
   ]
  },
  {
   "cell_type": "markdown",
   "metadata": {},
   "source": [
    "### Função para processar os dados do JSON\n",
    "Processa o campo `timestamp` do JSON, convertendo-o para horário e normalizando.\n",
    "    \n",
    "    :param data: Lista de registros do JSON.\n",
    "    :return: Lista de registros processados."
   ]
  },
  {
   "cell_type": "code",
   "execution_count": 11,
   "metadata": {},
   "outputs": [],
   "source": [
    "def process_timestamps(data):\n",
    "    for record in data:\n",
    "        if \"timestamp\" in record and record[\"timestamp\"] is not None:\n",
    "            # Substitui o valor do campo `timestamp` pelo valor normalizado\n",
    "            record[\"timestamp\"] = normalize_timestamp(record[\"timestamp\"])\n",
    "    \n",
    "    return data"
   ]
  },
  {
   "cell_type": "markdown",
   "metadata": {},
   "source": [
    "### Leitura do arquivo JSON original"
   ]
  },
  {
   "cell_type": "code",
   "execution_count": 12,
   "metadata": {},
   "outputs": [],
   "source": [
    "with open(input_json_path, \"r\", encoding=\"utf-8\") as input_file:\n",
    "    data = json.load(input_file)"
   ]
  },
  {
   "cell_type": "markdown",
   "metadata": {},
   "source": [
    "### Processa os timestamps"
   ]
  },
  {
   "cell_type": "code",
   "execution_count": 13,
   "metadata": {},
   "outputs": [],
   "source": [
    "processed_data = process_timestamps(data)"
   ]
  },
  {
   "cell_type": "markdown",
   "metadata": {},
   "source": [
    "### Salva o JSON normalizado"
   ]
  },
  {
   "cell_type": "code",
   "execution_count": 14,
   "metadata": {},
   "outputs": [
    {
     "name": "stdout",
     "output_type": "stream",
     "text": [
      "JSON normalizado com sucesso e salvo em: D:\\[TCC]\\TABELAS\\JSONS\\Dataset_Normalized.json\n"
     ]
    }
   ],
   "source": [
    "with open(output_json_path, \"w\", encoding=\"utf-8\") as output_file:\n",
    "    json.dump(processed_data, output_file, ensure_ascii=False, indent=4)\n",
    "\n",
    "print(f\"JSON normalizado com sucesso e salvo em: {output_json_path}\")"
   ]
  }
 ],
 "metadata": {
  "kernelspec": {
   "display_name": "Python 3",
   "language": "python",
   "name": "python3"
  },
  "language_info": {
   "codemirror_mode": {
    "name": "ipython",
    "version": 3
   },
   "file_extension": ".py",
   "mimetype": "text/x-python",
   "name": "python",
   "nbconvert_exporter": "python",
   "pygments_lexer": "ipython3",
   "version": "3.11.4"
  }
 },
 "nbformat": 4,
 "nbformat_minor": 2
}
