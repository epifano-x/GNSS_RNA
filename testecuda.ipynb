{
 "cells": [
  {
   "cell_type": "code",
   "execution_count": 16,
   "metadata": {},
   "outputs": [
    {
     "name": "stdout",
     "output_type": "stream",
     "text": [
      "Nenhuma GPU detectada pelo TensorFlow.\n"
     ]
    }
   ],
   "source": [
    "import tensorflow as tf\n",
    "\n",
    "# Verifica se a GPU está disponível\n",
    "gpus = tf.config.list_physical_devices('GPU')\n",
    "if gpus:\n",
    "    print(f\"GPUs disponíveis com TensorFlow: {len(gpus)}\")\n",
    "    for i, gpu in enumerate(gpus):\n",
    "        print(f\"GPU {i}: {gpu}\")\n",
    "else:\n",
    "    print(\"Nenhuma GPU detectada pelo TensorFlow.\")\n"
   ]
  },
  {
   "cell_type": "code",
   "execution_count": 17,
   "metadata": {},
   "outputs": [
    {
     "name": "stdout",
     "output_type": "stream",
     "text": [
      "CUDA disponível no PyTorch!\n",
      "Quantidade de GPUs disponíveis: 1\n",
      "GPU 0: NVIDIA GeForce RTX 4080\n"
     ]
    }
   ],
   "source": [
    "import torch\n",
    "\n",
    "# Verifica se o PyTorch detecta CUDA\n",
    "if torch.cuda.is_available():\n",
    "    print(f\"CUDA disponível no PyTorch!\")\n",
    "    print(f\"Quantidade de GPUs disponíveis: {torch.cuda.device_count()}\")\n",
    "    for i in range(torch.cuda.device_count()):\n",
    "        print(f\"GPU {i}: {torch.cuda.get_device_name(i)}\")\n",
    "else:\n",
    "    print(\"Nenhuma GPU detectada pelo PyTorch.\")\n"
   ]
  },
  {
   "cell_type": "code",
   "execution_count": 18,
   "metadata": {},
   "outputs": [
    {
     "name": "stdout",
     "output_type": "stream",
     "text": [
      "\n",
      "=== TensorFlow ===\n",
      "Versão do TensorFlow: 2.13.0\n",
      "GPU disponível: []\n",
      "\n",
      "=== PyTorch ===\n",
      "Versão do PyTorch: 2.1.1+cu121\n",
      "CUDA disponível: True\n",
      "Nome da GPU no PyTorch: NVIDIA GeForce RTX 4080\n"
     ]
    }
   ],
   "source": [
    "import tensorflow as tf\n",
    "import torch\n",
    "\n",
    "print(\"\\n=== TensorFlow ===\")\n",
    "print(\"Versão do TensorFlow:\", tf.__version__)\n",
    "print(\"GPU disponível:\", tf.config.list_physical_devices('GPU'))\n",
    "\n",
    "print(\"\\n=== PyTorch ===\")\n",
    "print(\"Versão do PyTorch:\", torch.__version__)\n",
    "print(\"CUDA disponível:\", torch.cuda.is_available())\n",
    "if torch.cuda.is_available():\n",
    "    print(f\"Nome da GPU no PyTorch: {torch.cuda.get_device_name(0)}\")\n"
   ]
  }
 ],
 "metadata": {
  "kernelspec": {
   "display_name": "Python 3",
   "language": "python",
   "name": "python3"
  },
  "language_info": {
   "codemirror_mode": {
    "name": "ipython",
    "version": 3
   },
   "file_extension": ".py",
   "mimetype": "text/x-python",
   "name": "python",
   "nbconvert_exporter": "python",
   "pygments_lexer": "ipython3",
   "version": "3.11.4"
  }
 },
 "nbformat": 4,
 "nbformat_minor": 2
}
